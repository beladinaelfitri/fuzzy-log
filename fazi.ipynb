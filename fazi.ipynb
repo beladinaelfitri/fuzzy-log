{
 "cells": [
  {
   "cell_type": "code",
   "execution_count": 1,
   "metadata": {},
   "outputs": [],
   "source": [
    "import matplotlib.pyplot as plt\n",
    "import pandas as pd"
   ]
  },
  {
   "cell_type": "code",
   "execution_count": 2,
   "metadata": {},
   "outputs": [],
   "source": [
    "file = pd.read_csv(\"influencers.csv\")"
   ]
  },
  {
   "cell_type": "code",
   "execution_count": 3,
   "metadata": {},
   "outputs": [
    {
     "name": "stdout",
     "output_type": "stream",
     "text": [
      "6207\n"
     ]
    }
   ],
   "source": [
    "print(file[\"followerCount\"][0])"
   ]
  },
  {
   "cell_type": "code",
   "execution_count": 4,
   "metadata": {},
   "outputs": [
    {
     "name": "stdout",
     "output_type": "stream",
     "text": [
      "[[1, 1, 0, 0], [2, 0.59052, 0.40948, 0], [3, 1, 0, 0], [4, 0.36596, 0.63404, 0], [5, 1, 0, 0], [6, 1, 0, 0], [7, 0.32652, 0.67348, 0], [8, 1, 0, 0], [9, 1, 0, 0], [10, 1, 0, 0], [11, 0, 0, 1], [12, 0.97808, 0.02192, 0], [13, 0, 0, 1], [14, 0.73156, 0.26844, 0], [15, 1, 0, 0], [16, 0.59816, 0.40184, 0], [17, 1, 0, 0], [18, 1, 0, 0], [19, 0, 1, 0], [20, 1, 0, 0], [21, 1, 0, 0], [22, 1, 0, 0], [23, 1, 0, 0], [24, 1, 0, 0], [25, 0, 0.8276666666666667, 0.17233333333333334], [26, 0.9196, 0.0804, 0], [27, 1, 0, 0], [28, 1, 0, 0], [29, 1, 0, 0], [30, 1, 0, 0], [31, 1, 0, 0], [32, 1, 0, 0], [33, 0.32668, 0.67332, 0], [34, 1, 0, 0], [35, 1, 0, 0], [36, 0.90324, 0.09676, 0], [37, 0.82376, 0.17624, 0], [38, 0.90768, 0.09232, 0], [39, 1, 0, 0], [40, 1, 0, 0], [41, 0, 0.5394, 0.4606], [42, 0.93244, 0.06756, 0], [43, 0.92628, 0.07372, 0], [44, 1, 0, 0], [45, 1, 0, 0], [46, 0.43556, 0.56444, 0], [47, 0.24612, 0.75388, 0], [48, 1, 0, 0], [49, 0.42436, 0.57564, 0], [50, 0.381, 0.619, 0], [51, 1, 0, 0], [52, 0.53984, 0.46016, 0], [53, 0, 1, 0], [54, 1, 0, 0], [55, 1, 0, 0], [56, 0.8824, 0.1176, 0], [57, 1, 0, 0], [58, 1, 0, 0], [59, 0, 1, 0], [60, 0, 1, 0], [61, 0, 1, 0], [62, 0.78228, 0.21772, 0], [63, 0.17788, 0.82212, 0], [64, 1, 0, 0], [65, 0.74116, 0.25884, 0], [66, 0.24668, 0.75332, 0], [67, 0.85432, 0.14568, 0], [68, 0.9872, 0.0128, 0], [69, 0.29128, 0.70872, 0], [70, 1, 0, 0], [71, 1, 0, 0], [72, 0, 1, 0], [73, 1, 0, 0], [74, 1, 0, 0], [75, 0, 0, 1], [76, 0.553, 0.447, 0], [77, 1, 0, 0], [78, 1, 0, 0], [79, 0.2238, 0.7762, 0], [80, 1, 0, 0], [81, 0.35536, 0.64464, 0], [82, 1, 0, 0], [83, 1, 0, 0], [84, 1, 0, 0], [85, 1, 0, 0], [86, 1, 0, 0], [87, 1, 0, 0], [88, 1, 0, 0], [89, 1, 0, 0], [90, 1, 0, 0], [91, 1, 0, 0], [92, 1, 0, 0], [93, 1, 0, 0], [94, 0.13416, 0.86584, 0], [95, 1, 0, 0], [96, 1, 0, 0], [97, 1, 0, 0], [98, 1, 0, 0], [99, 0.48524, 0.51476, 0], [100, 1, 0, 0]]\n"
     ]
    }
   ],
   "source": [
    "f = [0, 28000, 53000, 75000, 90000, 100000]\n",
    "\n",
    "def sedikitFunc(x):\n",
    "    if (x <= f[1]):\n",
    "        return 1\n",
    "    elif(x > f[2]):\n",
    "        return 0\n",
    "    elif (x > f[1] and x <= f[2]):\n",
    "        return (f[2]-x)/(f[2]-f[1])\n",
    "    \n",
    "def sedangFolFunc(x):\n",
    "    if (x <= f[1] or x > f[4]):\n",
    "        return 0\n",
    "    elif (x > f[1] and x <= f[2]):\n",
    "        return (x-f[1])/(f[2]-f[1])\n",
    "    elif (x > f[2] and x <= f[3]):\n",
    "        return 1\n",
    "    elif (x > f[3] and x <= f[4]):\n",
    "        return (f[4]-x)/(f[4]-f[3])\n",
    "    \n",
    "def banyakFunc(x):\n",
    "    if (x <= f[3]):\n",
    "        return 0\n",
    "    elif (x > f[4]):\n",
    "        return 1\n",
    "    elif (x > f[3] and x <= f[4]):\n",
    "        return (x-f[3])/(f[4]-f[3])\n",
    "    \n",
    "\n",
    "val_foll = []\n",
    "for i in range(len(file)):\n",
    "    value = []\n",
    "    value.append(file[\"id\"][i])\n",
    "    value.append(sedikitFunc(file[\"followerCount\"][i]))\n",
    "    value.append(sedangFolFunc(file[\"followerCount\"][i]))\n",
    "    value.append(banyakFunc(file[\"followerCount\"][i]))\n",
    "    val_foll.append(value)\n",
    "    \n",
    "print(val_foll)"
   ]
  },
  {
   "cell_type": "code",
   "execution_count": 5,
   "metadata": {},
   "outputs": [],
   "source": [
    "# f1 = 30000\n",
    "# f2 = 53000\n",
    "# f3 = 85000\n",
    "# f4 = 100000\n",
    "\n",
    "# def sedikitFunc(x):\n",
    "#     if (x <= f1):\n",
    "#         return 1\n",
    "#     elif(x > f2):\n",
    "#         return 0\n",
    "#     elif (x > f1 and x <= f2):\n",
    "#         return (f2-x)/(f2-f1)\n",
    "    \n",
    "# def sedangFunc(x):\n",
    "#     if (x <= f1 or x > f4):\n",
    "#         return 0\n",
    "#     elif (x > f1 and x <= f2):\n",
    "#         return (x-f1)/(f2-f1)\n",
    "#     elif (x > f2 and x <= f3):\n",
    "#         return 1\n",
    "#     elif (x > f3 and x <= f4):\n",
    "#         return (f4-x)/(f4-f3)\n",
    "    \n",
    "# def banyakFunc(x):\n",
    "#     if (x <= f3):\n",
    "#         return 0\n",
    "#     elif (x > f4):\n",
    "#         return 1\n",
    "#     elif (x > f3 and x <= f4):\n",
    "#         return (x-f3)/(f4-f3)\n",
    "    \n",
    "\n",
    "# val_foll = []\n",
    "# for i in range(len(file)):\n",
    "#     value = []\n",
    "#     value.append(file[\"id\"][i])\n",
    "#     value.append(sedikitFunc(file[\"followerCount\"][i]))\n",
    "#     value.append(sedangFunc(file[\"followerCount\"][i]))\n",
    "#     value.append(banyakFunc(file[\"followerCount\"][i]))\n",
    "#     val_foll.append(value)\n",
    "    \n",
    "# print(val_foll)\n",
    "# print(val_foll[3][1])"
   ]
  },
  {
   "cell_type": "code",
   "execution_count": 6,
   "metadata": {},
   "outputs": [
    {
     "name": "stdout",
     "output_type": "stream",
     "text": [
      "[[1, 1, 0, 0], [2, 0, 0.18749999999999992, 0.8125000000000001], [3, 1, 0, 0], [4, 1, 0, 0], [5, 0, 1, 0], [6, 0.0, 1.0, 0], [7, 1, 0, 0], [8, 0, 1, 0], [9, 1, 0, 0], [10, 0.3846153846153847, 0.6153846153846153, 0], [11, 0, 0, 1], [12, 0.6153846153846153, 0.3846153846153847, 0], [13, 0, 0, 1], [14, 1, 0, 0], [15, 0.6923076923076923, 0.30769230769230765, 0], [16, 1, 0, 0], [17, 1, 0, 0], [18, 1, 0, 0], [19, 0, 0.7499999999999997, 0.2500000000000003], [20, 0.7692307692307694, 0.23076923076923067, 0], [21, 1, 0, 0], [22, 1, 0, 0], [23, 0.923076923076923, 0.076923076923077, 0], [24, 1, 0, 0], [25, 0.46153846153846134, 0.5384615384615387, 0], [26, 1, 0, 0], [27, 0.15384615384615366, 0.8461538461538464, 0], [28, 0, 1, 0], [29, 1, 0, 0], [30, 1, 0, 0], [31, 1, 0, 0], [32, 0.7692307692307694, 0.23076923076923067, 0], [33, 1, 0, 0], [34, 0, 1, 0], [35, 0.23076923076923067, 0.7692307692307694, 0], [36, 0.0, 1.0, 0], [37, 1, 0, 0], [38, 1, 0, 0], [39, 0, 0, 1], [40, 1, 0, 0], [41, 0, 1, 0], [42, 1, 0, 0], [43, 1, 0, 0], [44, 1, 0, 0], [45, 1, 0, 0], [46, 1, 0, 0], [47, 1, 0, 0], [48, 0, 0, 1], [49, 1, 0, 0], [50, 1, 0, 0], [51, 0.15384615384615366, 0.8461538461538464, 0], [52, 1, 0, 0], [53, 0.07692307692307666, 0.9230769230769234, 0], [54, 0.6153846153846153, 0.3846153846153847, 0], [55, 1, 0, 0], [56, 1, 0, 0], [57, 1, 0, 0], [58, 1, 0, 0], [59, 0, 0, 1], [60, 0, 0.5624999999999998, 0.4375000000000002], [61, 0, 1, 0], [62, 1, 0, 0], [63, 1, 0, 0], [64, 1, 0, 0], [65, 1, 0, 0], [66, 1, 0, 0], [67, 0, 1, 0], [68, 1, 0, 0], [69, 1, 0, 0], [70, 0.30769230769230765, 0.6923076923076923, 0], [71, 0.3846153846153847, 0.6153846153846153, 0], [72, 0, 0.9375000000000002, 0.06249999999999979], [73, 0.6153846153846153, 0.3846153846153847, 0], [74, 0, 0, 1], [75, 0.23076923076923067, 0.7692307692307694, 0], [76, 0.0, 1.0, 0], [77, 1, 0, 0], [78, 0.23076923076923067, 0.7692307692307694, 0], [79, 1, 0, 0], [80, 0.07692307692307666, 0.9230769230769234, 0], [81, 1, 0, 0], [82, 1, 0, 0], [83, 1, 0, 0], [84, 1, 0, 0], [85, 0.7692307692307694, 0.23076923076923067, 0], [86, 1, 0, 0], [87, 0.30769230769230765, 0.6923076923076923, 0], [88, 0.46153846153846134, 0.5384615384615387, 0], [89, 0.7692307692307694, 0.23076923076923067, 0], [90, 0.6153846153846153, 0.3846153846153847, 0], [91, 0.07692307692307666, 0.9230769230769234, 0], [92, 0.6923076923076923, 0.30769230769230765, 0], [93, 0, 0.37499999999999983, 0.6250000000000001], [94, 1, 0, 0], [95, 0.15384615384615366, 0.8461538461538464, 0], [96, 1, 0, 0], [97, 1, 0, 0], [98, 1, 0, 0], [99, 1, 0, 0], [100, 0, 0, 1]]\n"
     ]
    }
   ],
   "source": [
    "e = [0, 2.0, 3.3, 4.5, 6.1, 10.0]\n",
    "\n",
    "def rendahFunc(x):\n",
    "    if (x <= e[1]):\n",
    "        return 1\n",
    "    elif(x > e[2]):\n",
    "        return 0\n",
    "    elif (x > e[1] and x <= e[2]):\n",
    "        return (e[2]-x)/(e[2]-e[1])\n",
    "    \n",
    "def sedangFunc(x):\n",
    "    if (x <= e[1] or x > e[4]):\n",
    "        return 0\n",
    "    elif (x > e[1] and x <= e[2]):\n",
    "        return (x-e[1])/(e[2]-e[1])\n",
    "    elif (x > e[2] and x <= e[3]):\n",
    "        return 1\n",
    "    elif (x > e[3] and x <= e[4]):\n",
    "        return (e[4]-x)/(e[4]-e[3])\n",
    "    \n",
    "def tinggiFunc(x):\n",
    "    if (x <= e[3]):\n",
    "        return 0\n",
    "    elif (x > e[4]):\n",
    "        return 1\n",
    "    elif (x > e[3] and x <= e[4]):\n",
    "        return (x-e[3])/(e[4]-e[3])\n",
    "    \n",
    "\n",
    "val_eng = []\n",
    "for i in range(len(file)):\n",
    "    value = []\n",
    "    value.append(file[\"id\"][i])\n",
    "    value.append(rendahFunc(file[\"engagementRate\"][i]))\n",
    "    value.append(sedangFunc(file[\"engagementRate\"][i]))\n",
    "    value.append(tinggiFunc(file[\"engagementRate\"][i]))\n",
    "    val_eng.append(value)\n",
    "    \n",
    "print(val_eng)"
   ]
  },
  {
   "cell_type": "code",
   "execution_count": 7,
   "metadata": {},
   "outputs": [],
   "source": [
    "# e1 = 2.0\n",
    "# e2 = 4.3\n",
    "# e3 = 6.6\n",
    "# e4 = 10.0\n",
    "\n",
    "# def rendahFunc(x):\n",
    "#     if (x <= e1):\n",
    "#         return 1\n",
    "#     elif(x > e2):\n",
    "#         return 0\n",
    "#     elif (x > e1 and x <= e2):\n",
    "#         return (e2-x)/(e2-e1)\n",
    "    \n",
    "# def sedangFunc(x):\n",
    "#     if (x <= e1 or x > e4):\n",
    "#         return 0\n",
    "#     elif (x > e1 and x <= e2):\n",
    "#         return (x-e1)/(e2-e1)\n",
    "#     elif (x > e2 and x <= e3):\n",
    "#         return 1\n",
    "#     elif (x > e3 and x <= e4):\n",
    "#         return (e4-x)/(e4-e3)\n",
    "    \n",
    "# def tinggiFunc(x):\n",
    "#     if (x <= e3):\n",
    "#         return 0\n",
    "#     elif (x > e4):\n",
    "#         return 1\n",
    "#     elif (x > e3 and x <= e4):\n",
    "#         return (x-e3)/(e4-e3)\n",
    "    \n",
    "\n",
    "# val_eng = []\n",
    "# for i in range(len(file)):\n",
    "#     value = []\n",
    "#     value.append(file[\"id\"][i])\n",
    "#     value.append(rendahFunc(file[\"engagementRate\"][i]))\n",
    "#     value.append(sedangFunc(file[\"engagementRate\"][i]))\n",
    "#     value.append(tinggiFunc(file[\"engagementRate\"][i]))\n",
    "#     val_eng.append(value)\n",
    "    \n",
    "# print(val_eng)"
   ]
  },
  {
   "cell_type": "code",
   "execution_count": 8,
   "metadata": {},
   "outputs": [],
   "source": [
    "# e1 = 2.0\n",
    "# e2 = 6.6\n",
    "# e3 = 10.0\n",
    "\n",
    "# def rendahFunc(x):\n",
    "#     if (x <= e1):\n",
    "#         return 1\n",
    "#     elif(x > e2):\n",
    "#         return 0\n",
    "#     elif (x > e1 and x <= e2):\n",
    "#         return (e2-x)/(e2-e1)\n",
    "    \n",
    "# def sedangFunc(x):\n",
    "#     if (x <= e1 or x >= e3):\n",
    "#         return 0\n",
    "#     elif (x > e1 and x <= e2):\n",
    "#         return (x-e1)/(e2-e1)\n",
    "#     elif (x > e2 and x <= e3):\n",
    "#         return -(x-e3)/(e3-e2)\n",
    "    \n",
    "# def tinggiFunc(x):\n",
    "#     if (x <= e2):\n",
    "#         return 0\n",
    "#     elif (x > e3):\n",
    "#         return 1\n",
    "#     elif (x > e2 and x <= e3):\n",
    "#         return (x-e2)/(e3-e2)\n",
    "    \n",
    "    \n",
    "# val_eng = []\n",
    "# for i in range(len(file)):\n",
    "#     value = []\n",
    "#     value.append(file[\"id\"][i])\n",
    "#     value.append(rendahFunc(file[\"engagementRate\"][i]))\n",
    "#     value.append(sedangFunc(file[\"engagementRate\"][i]))\n",
    "#     value.append(tinggiFunc(file[\"engagementRate\"][i]))\n",
    "#     val_eng.append(value)\n",
    "    \n",
    "# print(val_eng)"
   ]
  },
  {
   "cell_type": "code",
   "execution_count": 9,
   "metadata": {},
   "outputs": [],
   "source": [
    "label_fol = ['sedikit','sedang','banyak']\n",
    "label_eng = ['rendah','sedang','tinggi']"
   ]
  },
  {
   "cell_type": "code",
   "execution_count": 10,
   "metadata": {},
   "outputs": [
    {
     "name": "stdout",
     "output_type": "stream",
     "text": [
      "[['no', 1], ['no', 0], ['maybe', 0], ['no', 0], ['maybe', 0], ['yes', 0], ['maybe', 0], ['yes', 0], ['yes', 0]]\n"
     ]
    }
   ],
   "source": [
    "def fuzzyRules(labe, labf, fol, eng, id):\n",
    "    output = []\n",
    "    if (labf[0] == 'sedikit' and labe[0] == 'rendah'):\n",
    "        output.append(['no', (fol[id][1] and eng[id][1])])\n",
    "    if (labf[0] == 'sedikit' and labe[1] == 'sedang'):\n",
    "        output.append(['no', (fol[id][1] and eng[id][2])])\n",
    "    if (labf[0] == 'sedikit' and labe[2] == 'tinggi'):\n",
    "        output.append(['maybe', (fol[id][1] and eng[id][3])])\n",
    "    if (labf[1] == 'sedang' and labe[0] == 'rendah'):\n",
    "        output.append(['no', (fol[id][2] and eng[id][1])])\n",
    "    if (labf[1] == 'sedang' and labe[1] == 'sedang'):\n",
    "        output.append(['maybe', (fol[id][2] and eng[id][2])])\n",
    "    if (labf[1] == 'sedang' and labe[2] == 'tinggi'):\n",
    "        output.append(['yes', (fol[id][2] and eng[id][3])])\n",
    "    if (labf[2] == 'banyak' and labe[0] == 'rendah'):\n",
    "        output.append(['maybe', (fol[id][3] and eng[id][1])])\n",
    "    if (labf[2] == 'banyak' and labe[1] == 'sedang'):\n",
    "        output.append(['yes', (fol[id][3] and eng[id][2])])\n",
    "    if (labf[2] == 'banyak' and labe[2] == 'tinggi'):\n",
    "        output.append(['yes', (fol[id][3] and eng[id][3])])\n",
    "    return (output)\n",
    "\n",
    "o_val = fuzzyRules(label_eng, label_fol, val_foll, val_eng, 97)\n",
    "print(o_val)"
   ]
  },
  {
   "cell_type": "code",
   "execution_count": 11,
   "metadata": {},
   "outputs": [
    {
     "name": "stdout",
     "output_type": "stream",
     "text": [
      "[1, 0, 0]\n"
     ]
    }
   ],
   "source": [
    "infer = []\n",
    "n = []\n",
    "m = []\n",
    "y = []\n",
    "for o in range(len(o_val)):\n",
    "    if (o_val[o][0] == 'no'):\n",
    "        n.append(o_val[o][1])\n",
    "    if (o_val[o][0] == 'maybe'):\n",
    "        m.append(o_val[o][1])\n",
    "    if (o_val[o][0] == 'yes'):\n",
    "        y.append(o_val[o][1])\n",
    "\n",
    "infer.append(n[0] or n[1] or n[2])\n",
    "infer.append(m[0] or m[1] or m[2])\n",
    "infer.append(y[0] or y[1] or y[2])\n",
    "print(infer)"
   ]
  },
  {
   "cell_type": "code",
   "execution_count": 12,
   "metadata": {},
   "outputs": [
    {
     "data": {
      "text/plain": [
       "35.0"
      ]
     },
     "execution_count": 12,
     "metadata": {},
     "output_type": "execute_result"
    }
   ],
   "source": [
    "def defuzzification(inf):\n",
    "    return ((inf[0]*35)+(inf[1]*65)+(inf[2]*100))/(inf[0]+inf[1]+inf[2])\n",
    "\n",
    "defuzzification(infer)"
   ]
  },
  {
   "cell_type": "code",
   "execution_count": 13,
   "metadata": {},
   "outputs": [
    {
     "name": "stdout",
     "output_type": "stream",
     "text": [
      "[[35.0, 1], [77.58620689655174, 2], [35.0, 3], [35.0, 4], [35.0, 5], [35.0, 6], [35.0, 7], [35.0, 8], [35.0, 9], [35.0, 10], [100.0, 11], [46.53846153846154, 12], [100.0, 13], [35.0, 14], [35.0, 15], [35.0, 16], [35.0, 17], [35.0, 18], [73.75, 19], [35.0, 20], [35.0, 21], [35.0, 22], [35.0, 23], [35.0, 24], [68.25, 25], [35.0, 26], [35.0, 27], [35.0, 28], [35.0, 29], [35.0, 30], [35.0, 31], [35.0, 32], [35.0, 33], [35.0, 34], [35.0, 35], [50.0, 36], [35.0, 37], [35.0, 38], [65.0, 39], [35.0, 40], [82.5, 41], [35.0, 42], [35.0, 43], [35.0, 44], [35.0, 45], [35.0, 46], [35.0, 47], [65.0, 48], [35.0, 49], [35.0, 50], [35.0, 51], [35.0, 52], [62.6923076923077, 53], [35.0, 54], [35.0, 55], [35.0, 56], [35.0, 57], [35.0, 58], [100.0, 59], [80.3125, 60], [65.0, 61], [35.0, 62], [35.0, 63], [35.0, 64], [35.0, 65], [35.0, 66], [50.0, 67], [35.0, 68], [35.0, 69], [35.0, 70], [35.0, 71], [67.1875, 72], [35.0, 73], [65.0, 74], [91.92307692307693, 75], [50.0, 76], [35.0, 77], [35.0, 78], [35.0, 79], [35.0, 80], [35.0, 81], [35.0, 82], [35.0, 83], [35.0, 84], [35.0, 85], [35.0, 86], [35.0, 87], [35.0, 88], [35.0, 89], [35.0, 90], [35.0, 91], [35.0, 92], [53.75, 93], [35.0, 94], [35.0, 95], [35.0, 96], [35.0, 97], [35.0, 98], [35.0, 99], [65.0, 100]]\n"
     ]
    }
   ],
   "source": [
    "inf_val = []\n",
    "defuz = []\n",
    "for i in range(len(file)):\n",
    "    res = fuzzyRules(label_eng, label_fol, val_foll, val_eng, i)\n",
    "    infer = []\n",
    "    n = []\n",
    "    m = []\n",
    "    y = []\n",
    "    for o in range(len(res)):\n",
    "        if (res[o][0] == 'no'):\n",
    "            n.append(res[o][1])\n",
    "        if (res[o][0] == 'maybe'):\n",
    "            m.append(res[o][1])\n",
    "        if (res[o][0] == 'yes'):\n",
    "            y.append(res[o][1])\n",
    "    infer.append(n[0] or n[1] or n[2])\n",
    "    infer.append(m[0] or m[1] or m[2])\n",
    "    infer.append(y[0] or y[1] or y[2])\n",
    "    \n",
    "    defuz.append([defuzzification(infer),i+1])\n",
    "    \n",
    "print(defuz)"
   ]
  },
  {
   "cell_type": "code",
   "execution_count": 14,
   "metadata": {},
   "outputs": [
    {
     "name": "stdout",
     "output_type": "stream",
     "text": [
      "[[100.0, 59], [100.0, 13], [100.0, 11], [91.92307692307693, 75], [82.5, 41], [80.3125, 60], [77.58620689655174, 2], [73.75, 19], [68.25, 25], [67.1875, 72], [65.0, 100], [65.0, 74], [65.0, 61], [65.0, 48], [65.0, 39], [62.6923076923077, 53], [53.75, 93], [50.0, 76], [50.0, 67], [50.0, 36], [46.53846153846154, 12], [35.0, 99], [35.0, 98], [35.0, 97], [35.0, 96], [35.0, 95], [35.0, 94], [35.0, 92], [35.0, 91], [35.0, 90], [35.0, 89], [35.0, 88], [35.0, 87], [35.0, 86], [35.0, 85], [35.0, 84], [35.0, 83], [35.0, 82], [35.0, 81], [35.0, 80], [35.0, 79], [35.0, 78], [35.0, 77], [35.0, 73], [35.0, 71], [35.0, 70], [35.0, 69], [35.0, 68], [35.0, 66], [35.0, 65], [35.0, 64], [35.0, 63], [35.0, 62], [35.0, 58], [35.0, 57], [35.0, 56], [35.0, 55], [35.0, 54], [35.0, 52], [35.0, 51], [35.0, 50], [35.0, 49], [35.0, 47], [35.0, 46], [35.0, 45], [35.0, 44], [35.0, 43], [35.0, 42], [35.0, 40], [35.0, 38], [35.0, 37], [35.0, 35], [35.0, 34], [35.0, 33], [35.0, 32], [35.0, 31], [35.0, 30], [35.0, 29], [35.0, 28], [35.0, 27], [35.0, 26], [35.0, 24], [35.0, 23], [35.0, 22], [35.0, 21], [35.0, 20], [35.0, 18], [35.0, 17], [35.0, 16], [35.0, 15], [35.0, 14], [35.0, 10], [35.0, 9], [35.0, 8], [35.0, 7], [35.0, 6], [35.0, 5], [35.0, 4], [35.0, 3], [35.0, 1]]\n"
     ]
    }
   ],
   "source": [
    "defuz.sort(reverse=True)\n",
    "print(defuz)"
   ]
  },
  {
   "cell_type": "code",
   "execution_count": 15,
   "metadata": {},
   "outputs": [
    {
     "name": "stdout",
     "output_type": "stream",
     "text": [
      "59\n",
      "13\n",
      "11\n",
      "75\n",
      "41\n",
      "60\n",
      "2\n",
      "19\n",
      "25\n",
      "72\n",
      "100\n",
      "74\n",
      "61\n",
      "48\n",
      "39\n",
      "53\n",
      "93\n",
      "76\n",
      "67\n",
      "36\n"
     ]
    }
   ],
   "source": [
    "for i in range(20):\n",
    "    print(defuz[i][1])"
   ]
  },
  {
   "cell_type": "code",
   "execution_count": 16,
   "metadata": {},
   "outputs": [
    {
     "name": "stdout",
     "output_type": "stream",
     "text": [
      "1.0\n"
     ]
    }
   ],
   "source": [
    "right = [11,13,59,60,41,75,72,19,61,2,25,53,93,74,48,76,67,100,36,39]\n",
    "k = 0\n",
    "for i in range(20):\n",
    "    if(defuz[i][1] in right):\n",
    "        k = k + 1\n",
    "        \n",
    "print(k/20)"
   ]
  },
  {
   "cell_type": "code",
   "execution_count": 17,
   "metadata": {},
   "outputs": [],
   "source": [
    "for i in range(20):\n",
    "    if(defuz[i][1] not in right):\n",
    "        print(defuz[i][1])"
   ]
  },
  {
   "cell_type": "code",
   "execution_count": null,
   "metadata": {},
   "outputs": [],
   "source": []
  },
  {
   "cell_type": "code",
   "execution_count": null,
   "metadata": {},
   "outputs": [],
   "source": []
  }
 ],
 "metadata": {
  "kernelspec": {
   "display_name": "Python 3",
   "language": "python",
   "name": "python3"
  },
  "language_info": {
   "codemirror_mode": {
    "name": "ipython",
    "version": 3
   },
   "file_extension": ".py",
   "mimetype": "text/x-python",
   "name": "python",
   "nbconvert_exporter": "python",
   "pygments_lexer": "ipython3",
   "version": "3.6.4"
  }
 },
 "nbformat": 4,
 "nbformat_minor": 2
}
