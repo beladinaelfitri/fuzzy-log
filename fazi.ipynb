{
 "cells": [
  {
   "cell_type": "code",
   "execution_count": 21,
   "metadata": {},
   "outputs": [],
   "source": [
    "import random\n",
    "import csv\n",
    "import matplotlib.pyplot as plt\n",
    "import pandas as pd"
   ]
  },
  {
   "cell_type": "code",
   "execution_count": 66,
   "metadata": {},
   "outputs": [],
   "source": [
    "file = pd.read_csv(\"influencers.csv\")"
   ]
  },
  {
   "cell_type": "code",
   "execution_count": 67,
   "metadata": {},
   "outputs": [
    {
     "name": "stdout",
     "output_type": "stream",
     "text": [
      "6207\n"
     ]
    }
   ],
   "source": [
    "print(file[\"followerCount\"][0])"
   ]
  },
  {
   "cell_type": "code",
   "execution_count": 68,
   "metadata": {},
   "outputs": [
    {
     "name": "stdout",
     "output_type": "stream",
     "text": [
      "[[1, 1, 0, 0], [2, 0.47052, 0.52948, 0], [3, 1, 0, 0], [4, 0.24596, 0.75404, 0], [5, 1, 0, 0], [6, 1, 0, 0], [7, 0.20652, 0.79348, 0], [8, 1, 0, 0], [9, 1, 0, 0], [10, 1, 0, 0], [11, 0, 0.19532, 0.80468], [12, 0.85808, 0.14192, 0], [13, 0, 0.36908, 0.63092], [14, 0.61156, 0.38844, 0], [15, 1, 0, 0], [16, 0.47816, 0.52184, 0], [17, 1, 0, 0], [18, 1, 0, 0], [19, 0, 1, 0], [20, 1, 0, 0], [21, 1, 0, 0], [22, 1, 0, 0], [23, 0.8834, 0.1166, 0], [24, 1, 0, 0], [25, 0, 0.8966, 0.1034], [26, 0.7996, 0.2004, 0], [27, 1, 0, 0], [28, 1, 0, 0], [29, 1, 0, 0], [30, 1, 0, 0], [31, 1, 0, 0], [32, 1, 0, 0], [33, 0.20668, 0.79332, 0], [34, 1, 0, 0], [35, 1, 0, 0], [36, 0.78324, 0.21676, 0], [37, 0.70376, 0.29624, 0], [38, 0.78768, 0.21232, 0], [39, 1, 0, 0], [40, 1, 0, 0], [41, 0, 0.72364, 0.27636], [42, 0.81244, 0.18756, 0], [43, 0.80628, 0.19372, 0], [44, 1, 0, 0], [45, 1, 0, 0], [46, 0.31556, 0.68444, 0], [47, 0.12612, 0.87388, 0], [48, 1, 0, 0], [49, 0.30436, 0.69564, 0], [50, 0.261, 0.739, 0], [51, 1, 0, 0], [52, 0.41984, 0.58016, 0], [53, 0, 1, 0], [54, 1, 0, 0], [55, 1, 0, 0], [56, 0.7624, 0.2376, 0], [57, 1, 0, 0], [58, 1, 0, 0], [59, 0, 1, 0], [60, 0, 1, 0], [61, 0, 1, 0], [62, 0.66228, 0.33772, 0], [63, 0.05788, 0.94212, 0], [64, 1, 0, 0], [65, 0.62116, 0.37884, 0], [66, 0.12668, 0.87332, 0], [67, 0.73432, 0.26568, 0], [68, 0.8672, 0.1328, 0], [69, 0.17128, 0.82872, 0], [70, 1, 0, 0], [71, 0.9936, 0.0064, 0], [72, 0, 1, 0], [73, 1, 0, 0], [74, 1, 0, 0], [75, 0, 0.21796, 0.78204], [76, 0.433, 0.567, 0], [77, 1, 0, 0], [78, 1, 0, 0], [79, 0.1038, 0.8962, 0], [80, 1, 0, 0], [81, 0.23536, 0.76464, 0], [82, 1, 0, 0], [83, 1, 0, 0], [84, 0.97152, 0.02848, 0], [85, 0.98616, 0.01384, 0], [86, 0.9394, 0.0606, 0], [87, 1, 0, 0], [88, 1, 0, 0], [89, 1, 0, 0], [90, 1, 0, 0], [91, 1, 0, 0], [92, 1, 0, 0], [93, 0.89372, 0.10628, 0], [94, 0.01416, 0.98584, 0], [95, 1, 0, 0], [96, 1, 0, 0], [97, 1, 0, 0], [98, 0.90332, 0.09668, 0], [99, 0.36524, 0.63476, 0], [100, 1, 0, 0]]\n",
      "0.24596\n"
     ]
    }
   ],
   "source": [
    "f1 = 25000\n",
    "f2 = 50000\n",
    "f3 = 75000\n",
    "f4 = 100000\n",
    "\n",
    "def sedikitFunc(x):\n",
    "    if (x <= f1):\n",
    "        return 1\n",
    "    elif(x > f2):\n",
    "        return 0\n",
    "    elif (x > f1 and x <= f2):\n",
    "        return (f2-x)/(f2-f1)\n",
    "    \n",
    "def sedangFunc(x):\n",
    "    if (x <= f1 or x > f4):\n",
    "        return 0\n",
    "    elif (x > f1 and x <= f2):\n",
    "        return (x-f1)/(f2-f1)\n",
    "    elif (x > f2 and x <= f3):\n",
    "        return 1\n",
    "    elif (x > f3 and x <= f4):\n",
    "        return (f4-x)/(f4-f3)\n",
    "    \n",
    "def banyakFunc(x):\n",
    "    if (x <= f3):\n",
    "        return 0\n",
    "    elif (x > f4):\n",
    "        return 1\n",
    "    elif (x > f3 and x <= f4):\n",
    "        return (x-f3)/(f4-f3)\n",
    "    \n",
    "\n",
    "val_foll = []\n",
    "for i in range(len(file)):\n",
    "    value = []\n",
    "    value.append(file[\"id\"][i])\n",
    "    value.append(sedikitFunc(file[\"followerCount\"][i]))\n",
    "    value.append(sedangFunc(file[\"followerCount\"][i]))\n",
    "    value.append(banyakFunc(file[\"followerCount\"][i]))\n",
    "    val_foll.append(value)\n",
    "    \n",
    "print(val_foll)\n",
    "print(val_foll[3][1])"
   ]
  },
  {
   "cell_type": "code",
   "execution_count": 69,
   "metadata": {},
   "outputs": [
    {
     "name": "stdout",
     "output_type": "stream",
     "text": [
      "[[1, 1, 0, 0], [2, 0.24242424242424238, 0.7575757575757576, 0], [3, 1, 0, 0], [4, 1, 0, 0], [5, 0.9393939393939393, 0.06060606060606066, 0], [6, 1, 0, 0], [7, 1, 0, 0], [8, 0.9696969696969697, 0.03030303030303033, 0], [9, 1, 0, 0], [10, 1, 0, 0], [11, 0.0, 1.0, 0], [12, 1, 0, 0], [13, 0, 0.9705882352941175, 0.029411764705882505], [14, 1, 0, 0], [15, 1, 0, 0], [16, 1, 0, 0], [17, 1, 0, 0], [18, 1, 0, 0], [19, 0.5151515151515149, 0.48484848484848503, 0], [20, 1, 0, 0], [21, 1, 0, 0], [22, 1, 0, 0], [23, 1, 0, 0], [24, 1, 0, 0], [25, 1, 0, 0], [26, 1, 0, 0], [27, 1, 0, 0], [28, 0.8787878787878787, 0.12121212121212133, 0], [29, 1, 0, 0], [30, 1, 0, 0], [31, 1, 0, 0], [32, 1, 0, 0], [33, 1, 0, 0], [34, 0.8181818181818181, 0.18181818181818185, 0], [35, 1, 0, 0], [36, 1, 0, 0], [37, 1, 0, 0], [38, 1, 0, 0], [39, 0, 0.176470588235294, 0.823529411764706], [40, 1, 0, 0], [41, 0.9090909090909091, 0.090909090909091, 0], [42, 1, 0, 0], [43, 1, 0, 0], [44, 1, 0, 0], [45, 1, 0, 0], [46, 1, 0, 0], [47, 1, 0, 0], [48, 0.030303030303030196, 0.9696969696969698, 0], [49, 1, 0, 0], [50, 1, 0, 0], [51, 1, 0, 0], [52, 1, 0, 0], [53, 1, 0, 0], [54, 1, 0, 0], [55, 1, 0, 0], [56, 1, 0, 0], [57, 1, 0, 0], [58, 1, 0, 0], [59, 0, 0.9705882352941175, 0.029411764705882505], [60, 0.4242424242424241, 0.5757575757575759, 0], [61, 0.6363636363636362, 0.3636363636363637, 0], [62, 1, 0, 0], [63, 1, 0, 0], [64, 1, 0, 0], [65, 1, 0, 0], [66, 1, 0, 0], [67, 0.9696969696969697, 0.03030303030303033, 0], [68, 1, 0, 0], [69, 1, 0, 0], [70, 1, 0, 0], [71, 1, 0, 0], [72, 0.6060606060606061, 0.3939393939393939, 0], [73, 1, 0, 0], [74, 0.09090909090909086, 0.9090909090909092, 0], [75, 1, 0, 0], [76, 1, 0, 0], [77, 1, 0, 0], [78, 1, 0, 0], [79, 1, 0, 0], [80, 1, 0, 0], [81, 1, 0, 0], [82, 1, 0, 0], [83, 1, 0, 0], [84, 1, 0, 0], [85, 1, 0, 0], [86, 1, 0, 0], [87, 1, 0, 0], [88, 1, 0, 0], [89, 1, 0, 0], [90, 1, 0, 0], [91, 1, 0, 0], [92, 1, 0, 0], [93, 0.33333333333333326, 0.6666666666666667, 0], [94, 1, 0, 0], [95, 1, 0, 0], [96, 1, 0, 0], [97, 1, 0, 0], [98, 1, 0, 0], [99, 1, 0, 0], [100, 0, 0.9411764705882353, 0.058823529411764754]]\n"
     ]
    }
   ],
   "source": [
    "e1 = 3.3\n",
    "e2 = 6.6\n",
    "e3 = 10.0\n",
    "\n",
    "def rendahFunc(x):\n",
    "    if (x <= e1):\n",
    "        return 1\n",
    "    elif(x > e2):\n",
    "        return 0\n",
    "    elif (x > e1 and x <= e2):\n",
    "        return (e2-x)/(e2-e1)\n",
    "    \n",
    "def sedangFunc(x):\n",
    "    if (x <= e1 or x >= e3):\n",
    "        return 0\n",
    "    elif (x > e1 and x <= e2):\n",
    "        return (x-e1)/(e2-e1)\n",
    "    elif (x > e2 and x <= e3):\n",
    "        return -(x-e3)/(e3-e2)\n",
    "    \n",
    "def tinggiFunc(x):\n",
    "    if (x <= e2):\n",
    "        return 0\n",
    "    elif (x > e3):\n",
    "        return 1\n",
    "    elif (x > e2 and x <= e3):\n",
    "        return (x-e2)/(e3-e2)\n",
    "    \n",
    "    \n",
    "val_eng = []\n",
    "for i in range(len(file)):\n",
    "    value = []\n",
    "    value.append(file[\"id\"][i])\n",
    "    value.append(rendahFunc(file[\"engagementRate\"][i]))\n",
    "    value.append(sedangFunc(file[\"engagementRate\"][i]))\n",
    "    value.append(tinggiFunc(file[\"engagementRate\"][i]))\n",
    "    val_eng.append(value)\n",
    "    \n",
    "print(val_eng)"
   ]
  },
  {
   "cell_type": "code",
   "execution_count": 70,
   "metadata": {},
   "outputs": [],
   "source": [
    "label_fol = ['sedikit','sedang','banyak']\n",
    "label_eng = ['rendah','sedang','tinggi']"
   ]
  },
  {
   "cell_type": "code",
   "execution_count": 71,
   "metadata": {},
   "outputs": [
    {
     "name": "stdout",
     "output_type": "stream",
     "text": [
      "[['no', 0.24242424242424238], ['no', 0.7575757575757576], ['maybe', 0], ['no', 0.24242424242424238], ['maybe', 0.7575757575757576], ['yes', 0], ['maybe', 0], ['yes', 0], ['yes', 0]]\n"
     ]
    }
   ],
   "source": [
    "def fuzzyRules(labe, labf, fol, eng, id):\n",
    "    output = []\n",
    "    if (labf[0] == 'sedikit' and labe[0] == 'rendah'):\n",
    "        output.append(['no', (fol[id][1] and eng[id][1])])\n",
    "    if (labf[0] == 'sedikit' and labe[1] == 'sedang'):\n",
    "        output.append(['no', (fol[id][1] and eng[id][2])])\n",
    "    if (labf[0] == 'sedikit' and labe[2] == 'tinggi'):\n",
    "        output.append(['maybe', (fol[id][1] and eng[id][3])])\n",
    "    if (labf[1] == 'sedang' and labe[0] == 'rendah'):\n",
    "        output.append(['no', (fol[id][2] and eng[id][1])])\n",
    "    if (labf[1] == 'sedang' and labe[1] == 'sedang'):\n",
    "        output.append(['maybe', (fol[id][2] and eng[id][2])])\n",
    "    if (labf[1] == 'sedang' and labe[2] == 'tinggi'):\n",
    "        output.append(['yes', (fol[id][2] and eng[id][3])])\n",
    "    if (labf[2] == 'banyak' and labe[0] == 'rendah'):\n",
    "        output.append(['maybe', (fol[id][3] and eng[id][1])])\n",
    "    if (labf[2] == 'banyak' and labe[1] == 'sedang'):\n",
    "        output.append(['yes', (fol[id][3] and eng[id][2])])\n",
    "    if (labf[2] == 'banyak' and labe[2] == 'tinggi'):\n",
    "        output.append(['yes', (fol[id][3] and eng[id][3])])\n",
    "    return (output)\n",
    "\n",
    "o_val = fuzzyRules(label_eng, label_fol, val_foll, val_eng, 1)\n",
    "print(o_val)"
   ]
  },
  {
   "cell_type": "code",
   "execution_count": null,
   "metadata": {},
   "outputs": [],
   "source": []
  },
  {
   "cell_type": "code",
   "execution_count": 64,
   "metadata": {},
   "outputs": [
    {
     "name": "stdout",
     "output_type": "stream",
     "text": [
      "0.24242424242424238\n",
      "0.7575757575757576\n",
      "0\n"
     ]
    }
   ],
   "source": [
    "infer = []\n",
    "n = []\n",
    "m = []\n",
    "y = []\n",
    "for o in range(len(res)):\n",
    "    if (o_val[o][0] == 'no'):\n",
    "        n.append(o_val[o][1])\n",
    "    if (o_val[o][0] == 'maybe'):\n",
    "        m.append(o_val[o][1])\n",
    "    if (o_val[o][0] == 'yes'):\n",
    "        y.append(o_val[o][1])\n",
    "\n",
    "infer.append(n[0] or n[1] or n[2])\n",
    "infer.append(m[0] or m[1] or m[2])\n",
    "infer.append(y[0] or y[1] or y[2])"
   ]
  },
  {
   "cell_type": "code",
   "execution_count": 72,
   "metadata": {},
   "outputs": [],
   "source": [
    "def defuzzification(inf):\n",
    "    return ((inf[0]*35)+(inf[1]*65)+(inf[2]*100))/(inf[0]+inf[1]+inf[2])"
   ]
  },
  {
   "cell_type": "code",
   "execution_count": 75,
   "metadata": {},
   "outputs": [],
   "source": [
    "inf_val = []\n",
    "for i in range(len(file)):\n",
    "    res = fuzzyRules(label_eng, label_fol, val_foll, val_eng, i)\n",
    "    infer = []\n",
    "    n = []\n",
    "    m = []\n",
    "    y = []\n",
    "    for o in range(len(res)):\n",
    "        if (o_val[o][0] == 'no'):\n",
    "            n.append(o_val[o][1])\n",
    "        if (o_val[o][0] == 'maybe'):\n",
    "            m.append(o_val[o][1])\n",
    "        if (o_val[o][0] == 'yes'):\n",
    "            y.append(o_val[o][1])\n",
    "    infer.append(n[0] or n[1] or n[2])\n",
    "    infer.append(m[0] or m[1] or m[2])\n",
    "    infer.append(y[0] or y[1] or y[2])\n",
    "    defuz = []\n",
    "    defuz.append(defuzzification(infer))"
   ]
  },
  {
   "cell_type": "code",
   "execution_count": null,
   "metadata": {},
   "outputs": [],
   "source": []
  }
 ],
 "metadata": {
  "kernelspec": {
   "display_name": "Python 3",
   "language": "python",
   "name": "python3"
  },
  "language_info": {
   "codemirror_mode": {
    "name": "ipython",
    "version": 3
   },
   "file_extension": ".py",
   "mimetype": "text/x-python",
   "name": "python",
   "nbconvert_exporter": "python",
   "pygments_lexer": "ipython3",
   "version": "3.6.4"
  }
 },
 "nbformat": 4,
 "nbformat_minor": 2
}
